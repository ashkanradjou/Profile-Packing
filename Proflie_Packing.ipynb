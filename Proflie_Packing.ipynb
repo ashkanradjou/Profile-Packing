{
  "nbformat": 4,
  "nbformat_minor": 0,
  "metadata": {
    "colab": {
      "provenance": [],
      "authorship_tag": "ABX9TyP5Cur3eUd59RDlzfIZrh+v",
      "include_colab_link": true
    },
    "kernelspec": {
      "name": "python3",
      "display_name": "Python 3"
    },
    "language_info": {
      "name": "python"
    }
  },
  "cells": [
    {
      "cell_type": "markdown",
      "metadata": {
        "id": "view-in-github",
        "colab_type": "text"
      },
      "source": [
        "<a href=\"https://colab.research.google.com/github/ashkanradjou/Profile-Packing/blob/main/Proflie_Packing.ipynb\" target=\"_parent\"><img src=\"https://colab.research.google.com/assets/colab-badge.svg\" alt=\"Open In Colab\"/></a>"
      ]
    },
    {
      "cell_type": "code",
      "execution_count": 6,
      "metadata": {
        "colab": {
          "base_uri": "https://localhost:8080/"
        },
        "id": "J8r6AUlwnbai",
        "outputId": "9046282c-f680-403c-fc01-73de376830ec"
      },
      "outputs": [
        {
          "output_type": "stream",
          "name": "stdout",
          "text": [
            "Packed Bins: [[1, 2, 3, 4, 5, 1, 1], [6, 7], [10]]\n"
          ]
        }
      ],
      "source": [
        "def profile_packing(w, f, m, k):\n",
        "    # Step 1: Form the profile set Pf\n",
        "    Pf = [int(fx * m) for fx in f]\n",
        "\n",
        "    # Step 2: Compute an optimal packing of Pf (dummy implementation here)\n",
        "    def optimal_packing(profile):\n",
        "        bins = []\n",
        "        current_bin = []\n",
        "        current_size = 0\n",
        "        bin_capacity = m  # Assuming each bin can hold 'm' items for simplicity\n",
        "        for size, count in enumerate(profile):\n",
        "            for _ in range(count):\n",
        "                if current_size + size + 1 > bin_capacity:\n",
        "                    bins.append(current_bin)\n",
        "                    current_bin = []\n",
        "                    current_size = 0\n",
        "                current_bin.append(size + 1)\n",
        "                current_size += size + 1\n",
        "        if current_bin:\n",
        "            bins.append(current_bin)\n",
        "        return bins\n",
        "\n",
        "    OPTf_P = optimal_packing(Pf)\n",
        "\n",
        "    # Initializing bins\n",
        "    NonEmpty = []\n",
        "    Empty = []\n",
        "    Special = []\n",
        "\n",
        "    # Group new bins as per the optimal packing\n",
        "    for _ in OPTf_P:\n",
        "        Empty.append([])  # Add empty bins corresponding to the optimal packing\n",
        "\n",
        "    # Step 4: Process each item in the input sequence\n",
        "    for x in w:\n",
        "        size_x = x\n",
        "\n",
        "        # Check if OPTf_P has a placeholder for size x\n",
        "        placeholder_found = False\n",
        "        for bin in NonEmpty:\n",
        "            if size_x in bin:\n",
        "                bin.remove(size_x)\n",
        "                bin.append(size_x)\n",
        "                placeholder_found = True\n",
        "                break\n",
        "\n",
        "        if not placeholder_found:\n",
        "            # No placeholder found, so it's a special item\n",
        "            special_placed = False\n",
        "            for bin in Special:\n",
        "                if sum(bin) + size_x <= m:\n",
        "                    bin.append(size_x)\n",
        "                    special_placed = True\n",
        "                    break\n",
        "\n",
        "            if not special_placed:\n",
        "                # Add a new bin to Special and place x there\n",
        "                Special.append([size_x])\n",
        "\n",
        "        else:\n",
        "            # Placeholder found in NonEmpty bins\n",
        "            placed = False\n",
        "            for bin in Empty:\n",
        "                if size_x in bin:\n",
        "                    bin.remove(size_x)\n",
        "                    bin.append(size_x)\n",
        "                    NonEmpty.append(bin)\n",
        "                    Empty.remove(bin)\n",
        "                    placed = True\n",
        "                    break\n",
        "\n",
        "            if not placed:\n",
        "                # Open a new profile group if no placeholder in Empty\n",
        "                Empty.extend([[] for _ in OPTf_P])\n",
        "                for bin in Empty:\n",
        "                    if size_x in bin:\n",
        "                        bin.remove(size_x)\n",
        "                        bin.append(size_x)\n",
        "                        NonEmpty.append(bin)\n",
        "                        Empty.remove(bin)\n",
        "                        break\n",
        "\n",
        "    # Combine NonEmpty and Special bins for the final result\n",
        "    result_bins = NonEmpty + Special\n",
        "\n",
        "    return result_bins\n",
        "\n",
        "# Example Usage\n",
        "w = [1, 2, 3, 4, 5, 6, 7, 1, 1, 10]\n",
        "f = [0.11, 0.53, 0.15, 0.10, 0, 0.03, 0.05, 0, 0.03, 0]\n",
        "m = 20\n",
        "k = 10\n",
        "\n",
        "packed_bins = profile_packing(w, f, m, k)\n",
        "print(\"Packed Bins:\", packed_bins)\n"
      ]
    }
  ]
}